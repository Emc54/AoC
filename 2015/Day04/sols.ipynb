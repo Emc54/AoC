{
 "cells": [
  {
   "cell_type": "code",
   "execution_count": 1,
   "metadata": {},
   "outputs": [],
   "source": [
    "import hashlib as hs\n",
    "import numpy as np"
   ]
  },
  {
   "cell_type": "code",
   "execution_count": 2,
   "metadata": {},
   "outputs": [],
   "source": [
    "with open(\"input\",\"r\") as f:\n",
    "    data = f.read().split(\"\\n\")[0]"
   ]
  },
  {
   "cell_type": "code",
   "execution_count": 21,
   "metadata": {},
   "outputs": [
    {
     "name": "stdout",
     "output_type": "stream",
     "text": [
      "346386\n"
     ]
    }
   ],
   "source": [
    "for i in range(10000000):\n",
    "    hash_input = data+str(i)\n",
    "    hash = hs.md5(hash_input.encode('UTF-8')).hexdigest()\n",
    "    if hash[:5] == \"00000\":\n",
    "        print(i)\n",
    "        break\n"
   ]
  },
  {
   "cell_type": "code",
   "execution_count": 22,
   "metadata": {},
   "outputs": [
    {
     "name": "stdout",
     "output_type": "stream",
     "text": [
      "9958218\n"
     ]
    }
   ],
   "source": [
    "for i in range(10000000):\n",
    "    hash_input = data+str(i)\n",
    "    hash = hs.md5(hash_input.encode('UTF-8')).hexdigest()\n",
    "    if hash[:6] == \"000000\":\n",
    "        print(i)\n",
    "        break"
   ]
  }
 ],
 "metadata": {
  "kernelspec": {
   "display_name": "Python 3",
   "language": "python",
   "name": "python3"
  },
  "language_info": {
   "codemirror_mode": {
    "name": "ipython",
    "version": 3
   },
   "file_extension": ".py",
   "mimetype": "text/x-python",
   "name": "python",
   "nbconvert_exporter": "python",
   "pygments_lexer": "ipython3",
   "version": "3.11.7"
  }
 },
 "nbformat": 4,
 "nbformat_minor": 2
}
